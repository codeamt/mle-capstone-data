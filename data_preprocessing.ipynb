{
  "nbformat": 4,
  "nbformat_minor": 0,
  "metadata": {
    "kernelspec": {
      "display_name": "Python (covid)",
      "language": "python",
      "name": "covid"
    },
    "language_info": {
      "codemirror_mode": {
        "name": "ipython",
        "version": 3
      },
      "file_extension": ".py",
      "mimetype": "text/x-python",
      "name": "python",
      "nbconvert_exporter": "python",
      "pygments_lexer": "ipython3",
      "version": "3.6.10"
    },
    "colab": {
      "name": "data_preprocessing.ipynb",
      "provenance": [],
      "collapsed_sections": []
    }
  },
  "cells": [
    {
      "cell_type": "markdown",
      "metadata": {
        "id": "yeRqhgN7wz1O",
        "colab_type": "text"
      },
      "source": [
        "# Udacity MLE Nanodegree Capstone - Data Preprocessing"
      ]
    },
    {
      "cell_type": "markdown",
      "metadata": {
        "id": "-lH5NHeFw42L",
        "colab_type": "text"
      },
      "source": [
        "### Install Packages"
      ]
    },
    {
      "cell_type": "code",
      "metadata": {
        "id": "f015euhzHlRx",
        "colab_type": "code",
        "colab": {
          "base_uri": "https://localhost:8080/",
          "height": 801
        },
        "outputId": "5b1f36f3-41e7-4342-da56-c2a55346a5f2"
      },
      "source": [
        "!pip install pydicom\n",
        "!pip uninstall -y kaggle\n",
        "!pip install --upgrade pip\n",
        "!pip install kaggle==1.5.6\n",
        "!chmod 600 \"/content/kaggle.json\"\n",
        "!kaggle -v"
      ],
      "execution_count": null,
      "outputs": [
        {
          "output_type": "stream",
          "text": [
            "Collecting pydicom\n",
            "\u001b[?25l  Downloading https://files.pythonhosted.org/packages/d3/56/342e1f8ce5afe63bf65c23d0b2c1cd5a05600caad1c211c39725d3a4cc56/pydicom-2.0.0-py3-none-any.whl (35.4MB)\n",
            "\u001b[K     |████████████████████████████████| 35.5MB 1.6MB/s \n",
            "\u001b[?25hInstalling collected packages: pydicom\n",
            "Successfully installed pydicom-2.0.0\n",
            "Uninstalling kaggle-1.5.6:\n",
            "  Successfully uninstalled kaggle-1.5.6\n",
            "Collecting pip\n",
            "\u001b[?25l  Downloading https://files.pythonhosted.org/packages/43/84/23ed6a1796480a6f1a2d38f2802901d078266bda38388954d01d3f2e821d/pip-20.1.1-py2.py3-none-any.whl (1.5MB)\n",
            "\u001b[K     |████████████████████████████████| 1.5MB 4.4MB/s \n",
            "\u001b[?25hInstalling collected packages: pip\n",
            "  Found existing installation: pip 19.3.1\n",
            "    Uninstalling pip-19.3.1:\n",
            "      Successfully uninstalled pip-19.3.1\n",
            "Successfully installed pip-20.1.1\n",
            "Collecting kaggle==1.5.6\n",
            "  Downloading kaggle-1.5.6.tar.gz (58 kB)\n",
            "\u001b[K     |████████████████████████████████| 58 kB 2.4 MB/s \n",
            "\u001b[?25hRequirement already satisfied: urllib3<1.25,>=1.21.1 in /usr/local/lib/python3.6/dist-packages (from kaggle==1.5.6) (1.24.3)\n",
            "Requirement already satisfied: six>=1.10 in /usr/local/lib/python3.6/dist-packages (from kaggle==1.5.6) (1.12.0)\n",
            "Requirement already satisfied: certifi in /usr/local/lib/python3.6/dist-packages (from kaggle==1.5.6) (2020.4.5.2)\n",
            "Requirement already satisfied: python-dateutil in /usr/local/lib/python3.6/dist-packages (from kaggle==1.5.6) (2.8.1)\n",
            "Requirement already satisfied: requests in /usr/local/lib/python3.6/dist-packages (from kaggle==1.5.6) (2.23.0)\n",
            "Requirement already satisfied: tqdm in /usr/local/lib/python3.6/dist-packages (from kaggle==1.5.6) (4.41.1)\n",
            "Requirement already satisfied: python-slugify in /usr/local/lib/python3.6/dist-packages (from kaggle==1.5.6) (4.0.0)\n",
            "Requirement already satisfied: idna<3,>=2.5 in /usr/local/lib/python3.6/dist-packages (from requests->kaggle==1.5.6) (2.9)\n",
            "Requirement already satisfied: chardet<4,>=3.0.2 in /usr/local/lib/python3.6/dist-packages (from requests->kaggle==1.5.6) (3.0.4)\n",
            "Requirement already satisfied: text-unidecode>=1.3 in /usr/local/lib/python3.6/dist-packages (from python-slugify->kaggle==1.5.6) (1.3)\n",
            "Building wheels for collected packages: kaggle\n",
            "  Building wheel for kaggle (setup.py) ... \u001b[?25l\u001b[?25hdone\n",
            "  Created wheel for kaggle: filename=kaggle-1.5.6-py3-none-any.whl size=72859 sha256=a694c8c6c8205406d132cfae32abc049d6b870b25d3bf472eaefb2c2e83bc64b\n",
            "  Stored in directory: /root/.cache/pip/wheels/01/3e/ff/77407ebac3ef71a79b9166a8382aecf88415a0bcbe3c095a01\n",
            "Successfully built kaggle\n",
            "Installing collected packages: kaggle\n",
            "Successfully installed kaggle-1.5.6\n",
            "Traceback (most recent call last):\n",
            "  File \"/usr/local/bin/kaggle\", line 5, in <module>\n",
            "    from kaggle.cli import main\n",
            "  File \"/usr/local/lib/python3.6/dist-packages/kaggle/__init__.py\", line 23, in <module>\n",
            "    api.authenticate()\n",
            "  File \"/usr/local/lib/python3.6/dist-packages/kaggle/api/kaggle_api_extended.py\", line 149, in authenticate\n",
            "    self.config_file, self.config_dir))\n",
            "OSError: Could not find kaggle.json. Make sure it's located in /root/.kaggle. Or use the environment method.\n"
          ],
          "name": "stdout"
        }
      ]
    },
    {
      "cell_type": "code",
      "metadata": {
        "id": "uUSegbavIW7Z",
        "colab_type": "code",
        "colab": {
          "base_uri": "https://localhost:8080/",
          "height": 125
        },
        "outputId": "353e0b63-3859-4b15-93c5-ce2a737ab337"
      },
      "source": [
        "from google.colab import drive\n",
        "drive.mount('/content/drive')"
      ],
      "execution_count": null,
      "outputs": [
        {
          "output_type": "stream",
          "text": [
            "Go to this URL in a browser: https://accounts.google.com/o/oauth2/auth?client_id=947318989803-6bn6qk8qdgf4n4g3pfee6491hc0brc4i.apps.googleusercontent.com&redirect_uri=urn%3aietf%3awg%3aoauth%3a2.0%3aoob&response_type=code&scope=email%20https%3a%2f%2fwww.googleapis.com%2fauth%2fdocs.test%20https%3a%2f%2fwww.googleapis.com%2fauth%2fdrive%20https%3a%2f%2fwww.googleapis.com%2fauth%2fdrive.photos.readonly%20https%3a%2f%2fwww.googleapis.com%2fauth%2fpeopleapi.readonly\n",
            "\n",
            "Enter your authorization code:\n",
            "··········\n",
            "Mounted at /content/drive\n"
          ],
          "name": "stdout"
        }
      ]
    },
    {
      "cell_type": "markdown",
      "metadata": {
        "id": "y-CybiRixAA7",
        "colab_type": "text"
      },
      "source": [
        "### Import Packages"
      ]
    },
    {
      "cell_type": "code",
      "metadata": {
        "id": "IfmgKdLzGnwi",
        "colab_type": "code",
        "colab": {}
      },
      "source": [
        "import numpy as np\n",
        "import pandas as pd\n",
        "import os\n",
        "import random \n",
        "from shutil import copyfile\n",
        "import pydicom as dicom\n",
        "import cv2\n",
        "import zipfile"
      ],
      "execution_count": null,
      "outputs": []
    },
    {
      "cell_type": "markdown",
      "metadata": {
        "id": "Hs7XmoIMxETX",
        "colab_type": "text"
      },
      "source": [
        "### Download Data"
      ]
    },
    {
      "cell_type": "code",
      "metadata": {
        "id": "_0lZI-6tI3Dj",
        "colab_type": "code",
        "colab": {
          "base_uri": "https://localhost:8080/",
          "height": 390
        },
        "outputId": "b3c249db-8197-46e9-d525-486cc63c44c8"
      },
      "source": [
        "!git clone https://github.com/ieee8023/covid-chestxray-dataset.git\n",
        "!git clone https://github.com/agchung/Figure1-COVID-chestxray-dataset.git\n",
        "!git clone https://github.com/agchung/Actualmed-COVID-chestxray-dataset.git"
      ],
      "execution_count": null,
      "outputs": [
        {
          "output_type": "stream",
          "text": [
            "Cloning into 'covid-chestxray-dataset'...\n",
            "remote: Enumerating objects: 3133, done.\u001b[K\n",
            "remote: Total 3133 (delta 0), reused 0 (delta 0), pack-reused 3133\u001b[K\n",
            "Receiving objects: 100% (3133/3133), 573.00 MiB | 40.15 MiB/s, done.\n",
            "Resolving deltas: 100% (1236/1236), done.\n",
            "Checking out files: 100% (969/969), done.\n",
            "Cloning into 'Figure1-COVID-chestxray-dataset'...\n",
            "remote: Enumerating objects: 112, done.\u001b[K\n",
            "remote: Counting objects: 100% (112/112), done.\u001b[K\n",
            "remote: Compressing objects: 100% (97/97), done.\u001b[K\n",
            "remote: Total 112 (delta 28), reused 95 (delta 14), pack-reused 0\u001b[K\n",
            "Receiving objects: 100% (112/112), 14.13 MiB | 24.90 MiB/s, done.\n",
            "Resolving deltas: 100% (28/28), done.\n",
            "Cloning into 'Actualmed-COVID-chestxray-dataset'...\n",
            "remote: Enumerating objects: 10, done.\u001b[K\n",
            "remote: Counting objects: 100% (10/10), done.\u001b[K\n",
            "remote: Compressing objects: 100% (9/9), done.\u001b[K\n",
            "remote: Total 422 (delta 1), reused 6 (delta 1), pack-reused 412\u001b[K\n",
            "Receiving objects: 100% (422/422), 1.56 GiB | 28.62 MiB/s, done.\n",
            "Resolving deltas: 100% (16/16), done.\n",
            "Checking out files: 100% (240/240), done.\n"
          ],
          "name": "stdout"
        }
      ]
    },
    {
      "cell_type": "code",
      "metadata": {
        "id": "wQNY_oEINM_E",
        "colab_type": "code",
        "colab": {
          "base_uri": "https://localhost:8080/",
          "height": 70
        },
        "outputId": "a24d7b24-4698-40ba-948e-f585225a7982"
      },
      "source": [
        "os.environ['KAGGLE_CONFIG_DIR'] = \"/content\"\n",
        "!kaggle competitions download -c rsna-pneumonia-detection-challenge"
      ],
      "execution_count": null,
      "outputs": [
        {
          "output_type": "stream",
          "text": [
            "Downloading rsna-pneumonia-detection-challenge.zip to /content\n",
            "100% 3.66G/3.66G [00:51<00:00, 89.9MB/s]\n",
            "100% 3.66G/3.66G [00:51<00:00, 76.3MB/s]\n"
          ],
          "name": "stdout"
        }
      ]
    },
    {
      "cell_type": "code",
      "metadata": {
        "id": "LcIyKN3eNNO3",
        "colab_type": "code",
        "colab": {}
      },
      "source": [
        "rsna_zip = zipfile.ZipFile(\"/content/rsna-pneumonia-detection-challenge.zip\")\n",
        "rsna_zip.extractall('rsna-data')"
      ],
      "execution_count": null,
      "outputs": []
    },
    {
      "cell_type": "code",
      "metadata": {
        "id": "AbQ86-ugPhE0",
        "colab_type": "code",
        "colab": {}
      },
      "source": [
        "radio_db_zip = zipfile.ZipFile(\"/content/COVID-19 Radiography Database.zip\")\n",
        "radio_db_zip.extractall()"
      ],
      "execution_count": null,
      "outputs": []
    },
    {
      "cell_type": "markdown",
      "metadata": {
        "id": "nPayaTw6xLRV",
        "colab_type": "text"
      },
      "source": [
        "### File Tree Parameters: "
      ]
    },
    {
      "cell_type": "code",
      "metadata": {
        "id": "vtvIOPIYQLSV",
        "colab_type": "code",
        "colab": {}
      },
      "source": [
        "# set parameters here\n",
        "savepath = '/content/drive/My Drive/mle_cap_final/data'\n",
        "seed = 0\n",
        "np.random.seed(seed) # Reset the seed so all runs are the same.\n",
        "random.seed(seed)\n",
        "MAXVAL = 255  # Range [0 255]\n",
        "\n",
        "# path to covid-19 dataset from https://github.com/ieee8023/covid-chestxray-dataset\n",
        "cohen_imgpath = '/content/covid-chestxray-dataset/images' \n",
        "cohen_csvpath = '/content/covid-chestxray-dataset/metadata.csv'\n",
        "\n",
        "# path to covid-19 dataset from https://github.com/agchung/Figure1-COVID-chestxray-dataset\n",
        "fig1_imgpath = '/content/Figure1-COVID-chestxray-dataset/images'\n",
        "fig1_csvpath = '/content/Figure1-COVID-chestxray-dataset/metadata.csv'\n",
        "\n",
        "# path to covid-19 dataset from https://github.com/agchung/Actualmed-COVID-chestxray-dataset\n",
        "actmed_imgpath = '/content/Actualmed-COVID-chestxray-dataset/images'\n",
        "actmed_csvpath = '/content/Actualmed-COVID-chestxray-dataset/metadata.csv'\n",
        "\n",
        "# path to covid-19 dataset from https://www.kaggle.com/tawsifurrahman/covid19-radiography-database\n",
        "sirm_imgpath = '/content/COVID-19 Radiography Database/COVID-19'\n",
        "sirm_csvpath = '/content/COVID-19 Radiography Database/COVID-19.metadata.xlsx'\n",
        "\n",
        "# path to https://www.kaggle.com/c/rsna-pneumonia-detection-challenge\n",
        "rsna_datapath = '/content/rsna-data'\n",
        "# get all the normal from here\n",
        "rsna_csvname = 'stage_2_detailed_class_info.csv' \n",
        "# get all the 1s from here since 1 indicate pneumonia\n",
        "# found that images that aren't pneunmonia and also not normal are classified as 0s\n",
        "rsna_csvname2 = 'stage_2_train_labels.csv' \n",
        "rsna_imgpath = 'stage_2_train_images'\n",
        "\n",
        "# parameters for COVIDx dataset\n",
        "train = []\n",
        "test = []\n",
        "test_count = {'normal': 0, 'pneumonia': 0, 'COVID-19': 0}\n",
        "train_count = {'normal': 0, 'pneumonia': 0, 'COVID-19': 0}\n",
        "\n",
        "mapping = dict()\n",
        "mapping['COVID-19'] = 'COVID-19'\n",
        "mapping['SARS'] = 'pneumonia'\n",
        "mapping['MERS'] = 'pneumonia'\n",
        "mapping['Streptococcus'] = 'pneumonia'\n",
        "mapping['Klebsiella'] = 'pneumonia'\n",
        "mapping['Chlamydophila'] = 'pneumonia'\n",
        "mapping['Legionella'] = 'pneumonia'\n",
        "mapping['Normal'] = 'normal'\n",
        "mapping['Lung Opacity'] = 'pneumonia'\n",
        "mapping['1'] = 'pneumonia'\n",
        "\n",
        "# train/test split\n",
        "split = 0.1\n",
        "\n",
        "# to avoid duplicates\n",
        "patient_imgpath = {}"
      ],
      "execution_count": null,
      "outputs": []
    },
    {
      "cell_type": "markdown",
      "metadata": {
        "id": "3RvDoZVNxgfa",
        "colab_type": "text"
      },
      "source": [
        "### Read in Data for Building Dataset "
      ]
    },
    {
      "cell_type": "code",
      "metadata": {
        "id": "-17_8CXaGnwu",
        "colab_type": "code",
        "colab": {}
      },
      "source": [
        "# adapted from https://github.com/mlmed/torchxrayvision/blob/master/torchxrayvision/datasets.py#L814\n",
        "cohen_csv = pd.read_csv(cohen_csvpath, nrows=None)\n",
        "#idx_pa = csv[\"view\"] == \"PA\"  # Keep only the PA view\n",
        "views = [\"PA\", \"AP\", \"AP Supine\", \"AP semi erect\", \"AP erect\"]\n",
        "cohen_idx_keep = cohen_csv.view.isin(views)\n",
        "cohen_csv = cohen_csv[cohen_idx_keep]\n",
        "\n",
        "fig1_csv = pd.read_csv(fig1_csvpath, encoding='ISO-8859-1', nrows=None)\n",
        "actmed_csv = pd.read_csv(actmed_csvpath, nrows=None)\n",
        "\n",
        "sirm_csv = pd.read_excel(sirm_csvpath)"
      ],
      "execution_count": null,
      "outputs": []
    },
    {
      "cell_type": "code",
      "metadata": {
        "id": "TIfIyzK2Gnwx",
        "colab_type": "code",
        "colab": {
          "base_uri": "https://localhost:8080/",
          "height": 52
        },
        "outputId": "5ed20931-c8f0-4d59-b1c4-49bca281370f"
      },
      "source": [
        "# get non-COVID19 viral, bacteria, and COVID-19 infections from covid-chestxray-dataset, figure1 and actualmed\n",
        "# stored as patient id, image filename and label\n",
        "filename_label = {'normal': [], 'pneumonia': [], 'COVID-19': []}\n",
        "count = {'normal': 0, 'pneumonia': 0, 'COVID-19': 0}\n",
        "covid_ds = {'cohen': [], 'fig1': [], 'actmed': [], 'sirm': []}\n",
        "\n",
        "for index, row in cohen_csv.iterrows():\n",
        "    f = row['finding'].split(',')[0] # take the first finding, for the case of COVID-19, ARDS\n",
        "    if f in mapping: # \n",
        "        count[mapping[f]] += 1\n",
        "        entry = [str(row['patientid']), row['filename'], mapping[f], 'cohen']\n",
        "        filename_label[mapping[f]].append(entry)\n",
        "        if mapping[f] == 'COVID-19':\n",
        "            covid_ds['cohen'].append(str(row['patientid']))\n",
        "        \n",
        "for index, row in fig1_csv.iterrows():\n",
        "    if not str(row['finding']) == 'nan':\n",
        "        f = row['finding'].split(',')[0] # take the first finding\n",
        "        if f in mapping: # \n",
        "            count[mapping[f]] += 1\n",
        "            if os.path.exists(os.path.join(fig1_imgpath, row['patientid'] + '.jpg')):\n",
        "                entry = [row['patientid'], row['patientid'] + '.jpg', mapping[f], 'fig1']\n",
        "            elif os.path.exists(os.path.join(fig1_imgpath, row['patientid'] + '.png')):\n",
        "                entry = [row['patientid'], row['patientid'] + '.png', mapping[f], 'fig1']\n",
        "            filename_label[mapping[f]].append(entry)\n",
        "            if mapping[f] == 'COVID-19':\n",
        "                covid_ds['fig1'].append(row['patientid'])\n",
        "\n",
        "for index, row in actmed_csv.iterrows():\n",
        "    if not str(row['finding']) == 'nan':\n",
        "        f = row['finding'].split(',')[0]\n",
        "        if f in mapping:\n",
        "            count[mapping[f]] += 1\n",
        "            entry = [row['patientid'], row['imagename'], mapping[f], 'actmed']\n",
        "            filename_label[mapping[f]].append(entry)\n",
        "            if mapping[f] == 'COVID-19':\n",
        "                covid_ds['actmed'].append(row['patientid'])\n",
        "    \n",
        "sirm = set(sirm_csv['URL'])\n",
        "cohen = set(cohen_csv['url'])\n",
        "discard = ['100', '101', '102', '103', '104', '105', \n",
        "           '110', '111', '112', '113', '122', '123', \n",
        "           '124', '125', '126', '217']\n",
        "\n",
        "for idx, row in sirm_csv.iterrows():\n",
        "    patientid = row['FILE NAME']\n",
        "    if row['URL'] not in cohen and patientid[patientid.find('(')+1:patientid.find(')')] not in discard:\n",
        "        count[mapping['COVID-19']] += 1\n",
        "        imagename = patientid + '.' + row['FORMAT'].lower()\n",
        "        if not os.path.exists(os.path.join(sirm_imgpath, imagename)):\n",
        "            imagename = patientid.split('(')[0] + ' ('+ patientid.split('(')[1] + '.' + row['FORMAT'].lower()\n",
        "        entry = [patientid, imagename, mapping['COVID-19'], 'sirm']\n",
        "        filename_label[mapping['COVID-19']].append(entry)\n",
        "        covid_ds['sirm'].append(patientid)\n",
        "    \n",
        "print('Data distribution from covid datasets:')\n",
        "print(count)"
      ],
      "execution_count": null,
      "outputs": [
        {
          "output_type": "stream",
          "text": [
            "Data distribution from covid datasets:\n",
            "{'normal': 0, 'pneumonia': 41, 'COVID-19': 573}\n"
          ],
          "name": "stdout"
        }
      ]
    },
    {
      "cell_type": "code",
      "metadata": {
        "id": "-X9EIoGYGnw1",
        "colab_type": "code",
        "colab": {
          "base_uri": "https://localhost:8080/",
          "height": 143
        },
        "outputId": "a309d479-9244-4942-a7d1-74135a9fc459"
      },
      "source": [
        "# add covid-chestxray-dataset, figure1 and actualmed into COVIDx dataset\n",
        "# since these datasets don't have test dataset, split into train/test by patientid\n",
        "# for covid-chestxray-dataset:\n",
        "# patient 8 is used as non-COVID19 viral test\n",
        "# patient 31 is used as bacterial test\n",
        "# patients 19, 20, 36, 42, 86 are used as COVID-19 viral test\n",
        "# for figure 1:\n",
        "# patients 24, 25, 27, 29, 30, 32, 33, 36, 37, 38\n",
        "\n",
        "ds_imgpath = {'cohen': cohen_imgpath, 'fig1': fig1_imgpath, 'actmed': actmed_imgpath, 'sirm': sirm_imgpath}\n",
        "\n",
        "for key in filename_label.keys():\n",
        "    arr = np.array(filename_label[key])\n",
        "    if arr.size == 0:\n",
        "        continue\n",
        "    # split by patients\n",
        "    # num_diff_patients = len(np.unique(arr[:,0]))\n",
        "    # num_test = max(1, round(split*num_diff_patients))\n",
        "    # select num_test number of random patients\n",
        "    # random.sample(list(arr[:,0]), num_test)\n",
        "    if key == 'pneumonia':\n",
        "        test_patients = ['8', '31']\n",
        "    elif key == 'COVID-19':\n",
        "        test_patients = ['19', '20', '36', '42', '86', \n",
        "                         '94', '97', '117', '132', \n",
        "                         '138', '144', '150', '163', '169', '174', '175', '179', '190', '191'\n",
        "                         'COVID-00024', 'COVID-00025', 'COVID-00026', 'COVID-00027', 'COVID-00029',\n",
        "                         'COVID-00030', 'COVID-00032', 'COVID-00033', 'COVID-00035', 'COVID-00036',\n",
        "                         'COVID-00037', 'COVID-00038',\n",
        "                         'ANON24', 'ANON45', 'ANON126', 'ANON106', 'ANON67',\n",
        "                         'ANON153', 'ANON135', 'ANON44', 'ANON29', 'ANON201', \n",
        "                         'ANON191', 'ANON234', 'ANON110', 'ANON112', 'ANON73', \n",
        "                         'ANON220', 'ANON189', 'ANON30', 'ANON53', 'ANON46',\n",
        "                         'ANON218', 'ANON240', 'ANON100', 'ANON237', 'ANON158',\n",
        "                         'ANON174', 'ANON19', 'ANON195',\n",
        "                         'COVID-19(119)', 'COVID-19(87)', 'COVID-19(70)', 'COVID-19(94)', \n",
        "                         'COVID-19(215)', 'COVID-19(77)', 'COVID-19(213)', 'COVID-19(81)', \n",
        "                         'COVID-19(216)', 'COVID-19(72)', 'COVID-19(106)', 'COVID-19(131)', \n",
        "                         'COVID-19(107)', 'COVID-19(116)', 'COVID-19(95)', 'COVID-19(214)', \n",
        "                         'COVID-19(129)']\n",
        "    else: \n",
        "        test_patients = []\n",
        "    print('Key: ', key)\n",
        "    print('Test patients: ', test_patients)\n",
        "    # go through all the patients\n",
        "    for patient in arr:\n",
        "        if patient[0] not in patient_imgpath:\n",
        "            patient_imgpath[patient[0]] = [patient[1]]\n",
        "        else:\n",
        "            if patient[1] not in patient_imgpath[patient[0]]:\n",
        "                patient_imgpath[patient[0]].append(patient[1])\n",
        "            else:\n",
        "                continue  # skip since image has already been written\n",
        "        if patient[0] in test_patients:\n",
        "            if patient[3] == 'sirm':\n",
        "                image = cv2.imread(os.path.join(ds_imgpath[patient[3]], patient[1]))\n",
        "                gray = cv2.cvtColor(image, cv2.COLOR_BGR2GRAY)\n",
        "                patient[1] = patient[1].replace(' ', '')\n",
        "                cv2.imwrite(os.path.join(savepath, 'test', patient[1]), gray)\n",
        "            else:\n",
        "                copyfile(os.path.join(ds_imgpath[patient[3]], patient[1]), os.path.join(savepath, 'test', patient[1]))\n",
        "            test.append(patient)\n",
        "            test_count[patient[2]] += 1\n",
        "        else:\n",
        "            if patient[3] == 'sirm':\n",
        "                image = cv2.imread(os.path.join(ds_imgpath[patient[3]], patient[1]))\n",
        "                gray = cv2.cvtColor(image, cv2.COLOR_BGR2GRAY)\n",
        "                patient[1] = patient[1].replace(' ', '')\n",
        "                cv2.imwrite(os.path.join(savepath, 'train', patient[1]), gray)\n",
        "            else:\n",
        "                copyfile(os.path.join(ds_imgpath[patient[3]], patient[1]), os.path.join(savepath, 'train', patient[1]))\n",
        "            train.append(patient)\n",
        "            train_count[patient[2]] += 1\n",
        "\n",
        "print('test count: ', test_count)\n",
        "print('train count: ', train_count)"
      ],
      "execution_count": null,
      "outputs": [
        {
          "output_type": "stream",
          "text": [
            "Key:  pneumonia\n",
            "Test patients:  ['8', '31']\n",
            "Key:  COVID-19\n",
            "Test patients:  ['19', '20', '36', '42', '86', '94', '97', '117', '132', '138', '144', '150', '163', '169', '174', '175', '179', '190', '191COVID-00024', 'COVID-00025', 'COVID-00026', 'COVID-00027', 'COVID-00029', 'COVID-00030', 'COVID-00032', 'COVID-00033', 'COVID-00035', 'COVID-00036', 'COVID-00037', 'COVID-00038', 'ANON24', 'ANON45', 'ANON126', 'ANON106', 'ANON67', 'ANON153', 'ANON135', 'ANON44', 'ANON29', 'ANON201', 'ANON191', 'ANON234', 'ANON110', 'ANON112', 'ANON73', 'ANON220', 'ANON189', 'ANON30', 'ANON53', 'ANON46', 'ANON218', 'ANON240', 'ANON100', 'ANON237', 'ANON158', 'ANON174', 'ANON19', 'ANON195', 'COVID-19(119)', 'COVID-19(87)', 'COVID-19(70)', 'COVID-19(94)', 'COVID-19(215)', 'COVID-19(77)', 'COVID-19(213)', 'COVID-19(81)', 'COVID-19(216)', 'COVID-19(72)', 'COVID-19(106)', 'COVID-19(131)', 'COVID-19(107)', 'COVID-19(116)', 'COVID-19(95)', 'COVID-19(214)', 'COVID-19(129)']\n",
            "test count:  {'normal': 0, 'pneumonia': 5, 'COVID-19': 100}\n",
            "train count:  {'normal': 0, 'pneumonia': 31, 'COVID-19': 473}\n"
          ],
          "name": "stdout"
        }
      ]
    },
    {
      "cell_type": "markdown",
      "metadata": {
        "id": "EP7nzlXFxudT",
        "colab_type": "text"
      },
      "source": [
        "### Partition Samples by Patient ID"
      ]
    },
    {
      "cell_type": "code",
      "metadata": {
        "id": "S2t-BOJ_Gnw7",
        "colab_type": "code",
        "colab": {
          "base_uri": "https://localhost:8080/",
          "height": 52
        },
        "outputId": "733ef020-5342-4a68-ef4a-b65768bc0f8c"
      },
      "source": [
        "# add normal and rest of pneumonia cases from https://www.kaggle.com/c/rsna-pneumonia-detection-challenge\n",
        "csv_normal = pd.read_csv(os.path.join(rsna_datapath, rsna_csvname), nrows=None)\n",
        "csv_pneu = pd.read_csv(os.path.join(rsna_datapath, rsna_csvname2), nrows=None)\n",
        "patients = {'normal': [], 'pneumonia': []}\n",
        "\n",
        "for index, row in csv_normal.iterrows():\n",
        "    if row['class'] == 'Normal':\n",
        "        patients['normal'].append(row['patientId'])\n",
        "\n",
        "for index, row in csv_pneu.iterrows():\n",
        "    if int(row['Target']) == 1:\n",
        "        patients['pneumonia'].append(row['patientId'])\n",
        "\n",
        "for key in patients.keys():\n",
        "    arr = np.array(patients[key])\n",
        "    if arr.size == 0:\n",
        "        continue\n",
        "    # split by patients \n",
        "    # num_diff_patients = len(np.unique(arr))\n",
        "    # num_test = max(1, round(split*num_diff_patients))\n",
        "    test_patients = np.load('rsna_test_patients_{}.npy'.format(key)) # random.sample(list(arr), num_test), download the .npy files from the repo.\n",
        "    # np.save('rsna_test_patients_{}.npy'.format(key), np.array(test_patients))\n",
        "    for patient in arr:\n",
        "        if patient not in patient_imgpath:\n",
        "            patient_imgpath[patient] = [patient]\n",
        "        else:\n",
        "            continue  # skip since image has already been written\n",
        "                \n",
        "        ds = dicom.dcmread(os.path.join(rsna_datapath, rsna_imgpath, patient + '.dcm'))\n",
        "        pixel_array_numpy = ds.pixel_array\n",
        "        imgname = patient + '.png'\n",
        "        if patient in test_patients:\n",
        "            cv2.imwrite(os.path.join(savepath, 'test', imgname), pixel_array_numpy)\n",
        "            test.append([patient, imgname, key, 'rsna'])\n",
        "            test_count[key] += 1\n",
        "        else:\n",
        "            cv2.imwrite(os.path.join(savepath, 'train', imgname), pixel_array_numpy)\n",
        "            train.append([patient, imgname, key, 'rsna'])\n",
        "            train_count[key] += 1\n",
        "\n",
        "print('test count: ', test_count)\n",
        "print('train count: ', train_count)"
      ],
      "execution_count": null,
      "outputs": [
        {
          "output_type": "stream",
          "text": [
            "test count:  {'normal': 885, 'pneumonia': 594, 'COVID-19': 100}\n",
            "train count:  {'normal': 7966, 'pneumonia': 5454, 'COVID-19': 473}\n"
          ],
          "name": "stdout"
        }
      ]
    },
    {
      "cell_type": "markdown",
      "metadata": {
        "id": "kCaGjLfQyHDA",
        "colab_type": "text"
      },
      "source": [
        "### Final Stats/Counts by Class Label "
      ]
    },
    {
      "cell_type": "code",
      "metadata": {
        "id": "MNnb9Xv-Gnw-",
        "colab_type": "code",
        "colab": {
          "base_uri": "https://localhost:8080/",
          "height": 105
        },
        "outputId": "338a4668-6b74-4998-d79f-e9b78a6528e6"
      },
      "source": [
        "# final stats\n",
        "print('Final stats')\n",
        "print('Train count: ', train_count)\n",
        "print('Test count: ', test_count)\n",
        "print('Total length of train: ', len(train))\n",
        "print('Total length of test: ', len(test))"
      ],
      "execution_count": null,
      "outputs": [
        {
          "output_type": "stream",
          "text": [
            "Final stats\n",
            "Train count:  {'normal': 7966, 'pneumonia': 5454, 'COVID-19': 473}\n",
            "Test count:  {'normal': 885, 'pneumonia': 594, 'COVID-19': 100}\n",
            "Total length of train:  13893\n",
            "Total length of test:  1579\n"
          ],
          "name": "stdout"
        }
      ]
    },
    {
      "cell_type": "markdown",
      "metadata": {
        "id": "8BsEodMYyLrX",
        "colab_type": "text"
      },
      "source": [
        "### Label Data"
      ]
    },
    {
      "cell_type": "code",
      "metadata": {
        "id": "DGpzRxzFGnxC",
        "colab_type": "code",
        "colab": {}
      },
      "source": [
        "# export to train and test csv\n",
        "# format as patientid, filename, label, separated by a space\n",
        "train_file = open(\"train_split_v3.txt\",'w') \n",
        "for sample in train:\n",
        "    if len(sample) == 4:\n",
        "        info = str(sample[0]) + ' ' + sample[1] + ' ' + sample[2] + ' ' + sample[3] + '\\n'\n",
        "    else:\n",
        "        info = str(sample[0]) + ' ' + sample[1] + ' ' + sample[2] + '\\n'\n",
        "    train_file.write(info)\n",
        "\n",
        "train_file.close()\n",
        "\n",
        "test_file = open(\"test_split_v3.txt\", 'w')\n",
        "for sample in test:\n",
        "    if len(sample) == 4:\n",
        "        info = str(sample[0]) + ' ' + sample[1] + ' ' + sample[2] + ' ' + sample[3] + '\\n'\n",
        "    else:\n",
        "        info = str(sample[0]) + ' ' + sample[1] + ' ' + sample[2] + '\\n'\n",
        "    test_file.write(info)\n",
        "\n",
        "test_file.close()"
      ],
      "execution_count": null,
      "outputs": []
    },
    {
      "cell_type": "markdown",
      "metadata": {
        "id": "PnMtdHjOyTGI",
        "colab_type": "text"
      },
      "source": [
        "### Export Labels to .csv files "
      ]
    },
    {
      "cell_type": "code",
      "metadata": {
        "id": "XGyXFY00GnxE",
        "colab_type": "code",
        "colab": {}
      },
      "source": [
        "trainset_meta_txt = '/content/train_split_v3.txt'\n",
        "testset_meta_txt = '/content/test_split_v3.txt'\n",
        "trainset_meta_csv = 'train_split_v3.csv'\n",
        "testset_meta_csv = 'test_split_v3.csv'\n",
        "column_names = ['patient_id', 'fname', 'label', \"label_short\"]\n",
        "train_df = pd.read_csv(trainset_meta_txt, delimiter=' ', names=column_names, index_col=False)\n",
        "test_df = pd.read_csv(testset_meta_txt, delimiter=' ', names=column_names, index_col=False)"
      ],
      "execution_count": null,
      "outputs": []
    },
    {
      "cell_type": "code",
      "metadata": {
        "id": "aaaGFF7sXpVa",
        "colab_type": "code",
        "colab": {
          "base_uri": "https://localhost:8080/",
          "height": 197
        },
        "outputId": "db9182ed-63af-4b37-a20c-1fae839d74d3"
      },
      "source": [
        "train_df.head()"
      ],
      "execution_count": null,
      "outputs": [
        {
          "output_type": "execute_result",
          "data": {
            "text/html": [
              "<div>\n",
              "<style scoped>\n",
              "    .dataframe tbody tr th:only-of-type {\n",
              "        vertical-align: middle;\n",
              "    }\n",
              "\n",
              "    .dataframe tbody tr th {\n",
              "        vertical-align: top;\n",
              "    }\n",
              "\n",
              "    .dataframe thead th {\n",
              "        text-align: right;\n",
              "    }\n",
              "</style>\n",
              "<table border=\"1\" class=\"dataframe\">\n",
              "  <thead>\n",
              "    <tr style=\"text-align: right;\">\n",
              "      <th></th>\n",
              "      <th>patient_id</th>\n",
              "      <th>fname</th>\n",
              "      <th>label</th>\n",
              "      <th>label_short</th>\n",
              "    </tr>\n",
              "  </thead>\n",
              "  <tbody>\n",
              "    <tr>\n",
              "      <th>0</th>\n",
              "      <td>9</td>\n",
              "      <td>SARS-10.1148rg.242035193-g04mr34g07a-Fig7a-day...</td>\n",
              "      <td>pneumonia</td>\n",
              "      <td>cohen</td>\n",
              "    </tr>\n",
              "    <tr>\n",
              "      <th>1</th>\n",
              "      <td>9</td>\n",
              "      <td>SARS-10.1148rg.242035193-g04mr34g07b-Fig7b-day...</td>\n",
              "      <td>pneumonia</td>\n",
              "      <td>cohen</td>\n",
              "    </tr>\n",
              "    <tr>\n",
              "      <th>2</th>\n",
              "      <td>10</td>\n",
              "      <td>SARS-10.1148rg.242035193-g04mr34g09a-Fig9a-day...</td>\n",
              "      <td>pneumonia</td>\n",
              "      <td>cohen</td>\n",
              "    </tr>\n",
              "    <tr>\n",
              "      <th>3</th>\n",
              "      <td>10</td>\n",
              "      <td>SARS-10.1148rg.242035193-g04mr34g09b-Fig9b-day...</td>\n",
              "      <td>pneumonia</td>\n",
              "      <td>cohen</td>\n",
              "    </tr>\n",
              "    <tr>\n",
              "      <th>4</th>\n",
              "      <td>10</td>\n",
              "      <td>SARS-10.1148rg.242035193-g04mr34g09c-Fig9c-day...</td>\n",
              "      <td>pneumonia</td>\n",
              "      <td>cohen</td>\n",
              "    </tr>\n",
              "  </tbody>\n",
              "</table>\n",
              "</div>"
            ],
            "text/plain": [
              "  patient_id  ... label_short\n",
              "0          9  ...       cohen\n",
              "1          9  ...       cohen\n",
              "2         10  ...       cohen\n",
              "3         10  ...       cohen\n",
              "4         10  ...       cohen\n",
              "\n",
              "[5 rows x 4 columns]"
            ]
          },
          "metadata": {
            "tags": []
          },
          "execution_count": 26
        }
      ]
    },
    {
      "cell_type": "code",
      "metadata": {
        "id": "9-BuiTgzXwjl",
        "colab_type": "code",
        "colab": {
          "base_uri": "https://localhost:8080/",
          "height": 197
        },
        "outputId": "f880dde6-67d4-4035-d1d4-6c836c050c22"
      },
      "source": [
        "test_df.head()"
      ],
      "execution_count": null,
      "outputs": [
        {
          "output_type": "execute_result",
          "data": {
            "text/html": [
              "<div>\n",
              "<style scoped>\n",
              "    .dataframe tbody tr th:only-of-type {\n",
              "        vertical-align: middle;\n",
              "    }\n",
              "\n",
              "    .dataframe tbody tr th {\n",
              "        vertical-align: top;\n",
              "    }\n",
              "\n",
              "    .dataframe thead th {\n",
              "        text-align: right;\n",
              "    }\n",
              "</style>\n",
              "<table border=\"1\" class=\"dataframe\">\n",
              "  <thead>\n",
              "    <tr style=\"text-align: right;\">\n",
              "      <th></th>\n",
              "      <th>patient_id</th>\n",
              "      <th>fname</th>\n",
              "      <th>label</th>\n",
              "      <th>label_short</th>\n",
              "    </tr>\n",
              "  </thead>\n",
              "  <tbody>\n",
              "    <tr>\n",
              "      <th>0</th>\n",
              "      <td>8</td>\n",
              "      <td>SARS-10.1148rg.242035193-g04mr34g05x-Fig5-day9...</td>\n",
              "      <td>pneumonia</td>\n",
              "      <td>cohen</td>\n",
              "    </tr>\n",
              "    <tr>\n",
              "      <th>1</th>\n",
              "      <td>31</td>\n",
              "      <td>streptococcus-pneumoniae-pneumonia-temporal-ev...</td>\n",
              "      <td>pneumonia</td>\n",
              "      <td>cohen</td>\n",
              "    </tr>\n",
              "    <tr>\n",
              "      <th>2</th>\n",
              "      <td>31</td>\n",
              "      <td>streptococcus-pneumoniae-pneumonia-temporal-ev...</td>\n",
              "      <td>pneumonia</td>\n",
              "      <td>cohen</td>\n",
              "    </tr>\n",
              "    <tr>\n",
              "      <th>3</th>\n",
              "      <td>31</td>\n",
              "      <td>streptococcus-pneumoniae-pneumonia-temporal-ev...</td>\n",
              "      <td>pneumonia</td>\n",
              "      <td>cohen</td>\n",
              "    </tr>\n",
              "    <tr>\n",
              "      <th>4</th>\n",
              "      <td>31</td>\n",
              "      <td>streptococcus-pneumoniae-pneumonia-temporal-ev...</td>\n",
              "      <td>pneumonia</td>\n",
              "      <td>cohen</td>\n",
              "    </tr>\n",
              "  </tbody>\n",
              "</table>\n",
              "</div>"
            ],
            "text/plain": [
              "  patient_id  ... label_short\n",
              "0          8  ...       cohen\n",
              "1         31  ...       cohen\n",
              "2         31  ...       cohen\n",
              "3         31  ...       cohen\n",
              "4         31  ...       cohen\n",
              "\n",
              "[5 rows x 4 columns]"
            ]
          },
          "metadata": {
            "tags": []
          },
          "execution_count": 27
        }
      ]
    },
    {
      "cell_type": "code",
      "metadata": {
        "id": "b-hdT8qQZtRl",
        "colab_type": "code",
        "colab": {
          "base_uri": "https://localhost:8080/",
          "height": 167
        },
        "outputId": "6c7444e6-8f26-4059-90c5-edf63ee4d33d"
      },
      "source": [
        "train_df.groupby('label').count()"
      ],
      "execution_count": null,
      "outputs": [
        {
          "output_type": "execute_result",
          "data": {
            "text/html": [
              "<div>\n",
              "<style scoped>\n",
              "    .dataframe tbody tr th:only-of-type {\n",
              "        vertical-align: middle;\n",
              "    }\n",
              "\n",
              "    .dataframe tbody tr th {\n",
              "        vertical-align: top;\n",
              "    }\n",
              "\n",
              "    .dataframe thead th {\n",
              "        text-align: right;\n",
              "    }\n",
              "</style>\n",
              "<table border=\"1\" class=\"dataframe\">\n",
              "  <thead>\n",
              "    <tr style=\"text-align: right;\">\n",
              "      <th></th>\n",
              "      <th>patient_id</th>\n",
              "      <th>fname</th>\n",
              "      <th>label_short</th>\n",
              "    </tr>\n",
              "    <tr>\n",
              "      <th>label</th>\n",
              "      <th></th>\n",
              "      <th></th>\n",
              "      <th></th>\n",
              "    </tr>\n",
              "  </thead>\n",
              "  <tbody>\n",
              "    <tr>\n",
              "      <th>COVID-19</th>\n",
              "      <td>473</td>\n",
              "      <td>473</td>\n",
              "      <td>473</td>\n",
              "    </tr>\n",
              "    <tr>\n",
              "      <th>normal</th>\n",
              "      <td>7966</td>\n",
              "      <td>7966</td>\n",
              "      <td>7966</td>\n",
              "    </tr>\n",
              "    <tr>\n",
              "      <th>pneumonia</th>\n",
              "      <td>5454</td>\n",
              "      <td>5454</td>\n",
              "      <td>5454</td>\n",
              "    </tr>\n",
              "  </tbody>\n",
              "</table>\n",
              "</div>"
            ],
            "text/plain": [
              "           patient_id  fname  label_short\n",
              "label                                    \n",
              "COVID-19          473    473          473\n",
              "normal           7966   7966         7966\n",
              "pneumonia        5454   5454         5454"
            ]
          },
          "metadata": {
            "tags": []
          },
          "execution_count": 31
        }
      ]
    },
    {
      "cell_type": "code",
      "metadata": {
        "id": "cAfLMBDjZ9eP",
        "colab_type": "code",
        "colab": {
          "base_uri": "https://localhost:8080/",
          "height": 167
        },
        "outputId": "7bdc5093-fc62-4d48-f6a3-424139d4973c"
      },
      "source": [
        "test_df.groupby('label').count()"
      ],
      "execution_count": null,
      "outputs": [
        {
          "output_type": "execute_result",
          "data": {
            "text/html": [
              "<div>\n",
              "<style scoped>\n",
              "    .dataframe tbody tr th:only-of-type {\n",
              "        vertical-align: middle;\n",
              "    }\n",
              "\n",
              "    .dataframe tbody tr th {\n",
              "        vertical-align: top;\n",
              "    }\n",
              "\n",
              "    .dataframe thead th {\n",
              "        text-align: right;\n",
              "    }\n",
              "</style>\n",
              "<table border=\"1\" class=\"dataframe\">\n",
              "  <thead>\n",
              "    <tr style=\"text-align: right;\">\n",
              "      <th></th>\n",
              "      <th>patient_id</th>\n",
              "      <th>fname</th>\n",
              "      <th>label_short</th>\n",
              "    </tr>\n",
              "    <tr>\n",
              "      <th>label</th>\n",
              "      <th></th>\n",
              "      <th></th>\n",
              "      <th></th>\n",
              "    </tr>\n",
              "  </thead>\n",
              "  <tbody>\n",
              "    <tr>\n",
              "      <th>COVID-19</th>\n",
              "      <td>100</td>\n",
              "      <td>100</td>\n",
              "      <td>100</td>\n",
              "    </tr>\n",
              "    <tr>\n",
              "      <th>normal</th>\n",
              "      <td>885</td>\n",
              "      <td>885</td>\n",
              "      <td>885</td>\n",
              "    </tr>\n",
              "    <tr>\n",
              "      <th>pneumonia</th>\n",
              "      <td>594</td>\n",
              "      <td>594</td>\n",
              "      <td>594</td>\n",
              "    </tr>\n",
              "  </tbody>\n",
              "</table>\n",
              "</div>"
            ],
            "text/plain": [
              "           patient_id  fname  label_short\n",
              "label                                    \n",
              "COVID-19          100    100          100\n",
              "normal            885    885          885\n",
              "pneumonia         594    594          594"
            ]
          },
          "metadata": {
            "tags": []
          },
          "execution_count": 32
        }
      ]
    },
    {
      "cell_type": "code",
      "metadata": {
        "id": "veUUh_MVX5II",
        "colab_type": "code",
        "colab": {}
      },
      "source": [
        "train_df.to_csv(trainset_meta_csv, index=False, sep = ',')\n",
        "test_df.to_csv(testset_meta_csv, index=False, sep = ',')"
      ],
      "execution_count": null,
      "outputs": []
    },
    {
      "cell_type": "code",
      "metadata": {
        "id": "ymLymi_jadve",
        "colab_type": "code",
        "colab": {
          "base_uri": "https://localhost:8080/",
          "height": 34
        },
        "outputId": "b29cef1c-78f1-4e76-9de1-55a657b2359d"
      },
      "source": [
        "import shutil\n",
        "shutil.move(\"/content/train_split_v3.csv\", savepath)\n",
        "shutil.move(\"/content/test_split_v3.csv\", savepath)"
      ],
      "execution_count": null,
      "outputs": [
        {
          "output_type": "execute_result",
          "data": {
            "text/plain": [
              "'/content/drive/My Drive/mle_cap_final/data/test_split_v3.csv'"
            ]
          },
          "metadata": {
            "tags": []
          },
          "execution_count": 34
        }
      ]
    }
  ]
}